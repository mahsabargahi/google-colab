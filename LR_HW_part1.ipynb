{
  "nbformat": 4,
  "nbformat_minor": 0,
  "metadata": {
    "colab": {
      "name": "LR_HW_part1.ipynb",
      "provenance": [],
      "authorship_tag": "ABX9TyMloYybtuBAYAt4WAnWWH5L",
      "include_colab_link": true
    },
    "kernelspec": {
      "name": "python3",
      "display_name": "Python 3"
    },
    "language_info": {
      "name": "python"
    }
  },
  "cells": [
    {
      "cell_type": "markdown",
      "metadata": {
        "id": "view-in-github",
        "colab_type": "text"
      },
      "source": [
        "<a href=\"https://colab.research.google.com/github/mahsabargahi/google-colab/blob/main/LR_HW_part1.ipynb\" target=\"_parent\"><img src=\"https://colab.research.google.com/assets/colab-badge.svg\" alt=\"Open In Colab\"/></a>"
      ]
    },
    {
      "cell_type": "code",
      "metadata": {
        "colab": {
          "base_uri": "https://localhost:8080/"
        },
        "id": "_dXeiX4ysycH",
        "outputId": "b390100a-34c4-4979-c69d-3641d94bb317"
      },
      "source": [
        "!pip install --upgrade scikit-learn # in case you need to upgrade sklearn"
      ],
      "execution_count": null,
      "outputs": [
        {
          "output_type": "stream",
          "name": "stdout",
          "text": [
            "Requirement already satisfied: scikit-learn in /usr/local/lib/python3.7/dist-packages (0.22.2.post1)\n",
            "Collecting scikit-learn\n",
            "  Downloading scikit_learn-1.0-cp37-cp37m-manylinux_2_12_x86_64.manylinux2010_x86_64.whl (23.1 MB)\n",
            "\u001b[K     |████████████████████████████████| 23.1 MB 5.4 kB/s \n",
            "\u001b[?25hRequirement already satisfied: scipy>=1.1.0 in /usr/local/lib/python3.7/dist-packages (from scikit-learn) (1.4.1)\n",
            "Requirement already satisfied: joblib>=0.11 in /usr/local/lib/python3.7/dist-packages (from scikit-learn) (1.0.1)\n",
            "Collecting threadpoolctl>=2.0.0\n",
            "  Downloading threadpoolctl-3.0.0-py3-none-any.whl (14 kB)\n",
            "Requirement already satisfied: numpy>=1.14.6 in /usr/local/lib/python3.7/dist-packages (from scikit-learn) (1.19.5)\n",
            "Installing collected packages: threadpoolctl, scikit-learn\n",
            "  Attempting uninstall: scikit-learn\n",
            "    Found existing installation: scikit-learn 0.22.2.post1\n",
            "    Uninstalling scikit-learn-0.22.2.post1:\n",
            "      Successfully uninstalled scikit-learn-0.22.2.post1\n",
            "Successfully installed scikit-learn-1.0 threadpoolctl-3.0.0\n"
          ]
        }
      ]
    },
    {
      "cell_type": "code",
      "metadata": {
        "colab": {
          "base_uri": "https://localhost:8080/"
        },
        "id": "5Q3fel47toYV",
        "outputId": "6b9d532e-db08-4a41-e1c7-9ccbfffb5d77"
      },
      "source": [
        "! pip uninstall statsmodels\n",
        "! pip install statsmodels"
      ],
      "execution_count": null,
      "outputs": [
        {
          "output_type": "stream",
          "name": "stdout",
          "text": [
            "Found existing installation: statsmodels 0.10.2\n",
            "Uninstalling statsmodels-0.10.2:\n",
            "  Would remove:\n",
            "    /usr/local/lib/python3.7/dist-packages/statsmodels-0.10.2.dist-info/*\n",
            "    /usr/local/lib/python3.7/dist-packages/statsmodels/*\n",
            "Proceed (y/n)? y\n",
            "  Successfully uninstalled statsmodels-0.10.2\n",
            "Collecting statsmodels\n",
            "  Downloading statsmodels-0.12.2-cp37-cp37m-manylinux1_x86_64.whl (9.5 MB)\n",
            "\u001b[K     |████████████████████████████████| 9.5 MB 13.2 MB/s \n",
            "\u001b[?25hRequirement already satisfied: patsy>=0.5 in /usr/local/lib/python3.7/dist-packages (from statsmodels) (0.5.1)\n",
            "Requirement already satisfied: numpy>=1.15 in /usr/local/lib/python3.7/dist-packages (from statsmodels) (1.19.5)\n",
            "Requirement already satisfied: pandas>=0.21 in /usr/local/lib/python3.7/dist-packages (from statsmodels) (1.1.5)\n",
            "Requirement already satisfied: scipy>=1.1 in /usr/local/lib/python3.7/dist-packages (from statsmodels) (1.4.1)\n",
            "Requirement already satisfied: python-dateutil>=2.7.3 in /usr/local/lib/python3.7/dist-packages (from pandas>=0.21->statsmodels) (2.8.2)\n",
            "Requirement already satisfied: pytz>=2017.2 in /usr/local/lib/python3.7/dist-packages (from pandas>=0.21->statsmodels) (2018.9)\n",
            "Requirement already satisfied: six in /usr/local/lib/python3.7/dist-packages (from patsy>=0.5->statsmodels) (1.15.0)\n",
            "Installing collected packages: statsmodels\n",
            "Successfully installed statsmodels-0.12.2\n"
          ]
        }
      ]
    },
    {
      "cell_type": "code",
      "metadata": {
        "colab": {
          "base_uri": "https://localhost:8080/"
        },
        "id": "LtyEOfTTtpSh",
        "outputId": "b97b1b39-1d55-43e2-8ba8-8344d6bcce24"
      },
      "source": [
        "## mount the Google drive to get access to files in your drive ##\n",
        "from google.colab import drive\n",
        "drive.mount('/content/drive')\n",
        "\n",
        "## set the folder that stores your files and data as your current directory ##\n",
        "%cd /content/drive/My\\ Drive/Colab\\ Notebooks"
      ],
      "execution_count": null,
      "outputs": [
        {
          "output_type": "stream",
          "name": "stdout",
          "text": [
            "Mounted at /content/drive\n",
            "/content/drive/My Drive/Colab Notebooks\n"
          ]
        }
      ]
    },
    {
      "cell_type": "code",
      "metadata": {
        "id": "ituctdUUuDo8"
      },
      "source": [
        "## import libraries and tools ##\n",
        "\n",
        "import numpy as np # linear algebra\n",
        "import pandas as pd # data processing and CSV file I/O \n",
        "\n",
        "import seaborn as sns\n",
        "\n",
        "from matplotlib import rcParams\n",
        "import matplotlib.pyplot as plt\n",
        "\n",
        "import sklearn\n",
        "from sklearn import metrics\n",
        "from sklearn.model_selection import train_test_split, cross_val_score \n",
        "from sklearn.preprocessing import StandardScaler\n",
        "from sklearn.preprocessing import PolynomialFeatures\n",
        "from sklearn.linear_model import LinearRegression, LogisticRegression\n",
        "from sklearn.decomposition import PCA\n",
        "\n",
        "import missingno  # missing data visualization\n",
        "\n",
        "import scipy as sp\n",
        "from scipy import stats\n",
        "\n",
        "import statsmodels.api as sm\n",
        "import statsmodels.stats.stattools as smt"
      ],
      "execution_count": null,
      "outputs": []
    },
    {
      "cell_type": "code",
      "metadata": {
        "colab": {
          "base_uri": "https://localhost:8080/",
          "height": 206
        },
        "id": "nAlbA9OPuSaM",
        "outputId": "8e47e057-4d80-4bc9-cec5-134d70bccfdc"
      },
      "source": [
        "## read the dataset in csv format ##\n",
        "df = pd.read_csv('Data/Concrete_Data.csv')\n",
        "df.head()"
      ],
      "execution_count": null,
      "outputs": [
        {
          "output_type": "execute_result",
          "data": {
            "text/html": [
              "<div>\n",
              "<style scoped>\n",
              "    .dataframe tbody tr th:only-of-type {\n",
              "        vertical-align: middle;\n",
              "    }\n",
              "\n",
              "    .dataframe tbody tr th {\n",
              "        vertical-align: top;\n",
              "    }\n",
              "\n",
              "    .dataframe thead th {\n",
              "        text-align: right;\n",
              "    }\n",
              "</style>\n",
              "<table border=\"1\" class=\"dataframe\">\n",
              "  <thead>\n",
              "    <tr style=\"text-align: right;\">\n",
              "      <th></th>\n",
              "      <th>cement</th>\n",
              "      <th>slag</th>\n",
              "      <th>flyash</th>\n",
              "      <th>water</th>\n",
              "      <th>superplasticizer</th>\n",
              "      <th>coarseaggregate</th>\n",
              "      <th>fineaggregate</th>\n",
              "      <th>age</th>\n",
              "      <th>csMPa</th>\n",
              "    </tr>\n",
              "  </thead>\n",
              "  <tbody>\n",
              "    <tr>\n",
              "      <th>0</th>\n",
              "      <td>540.0</td>\n",
              "      <td>0.0</td>\n",
              "      <td>0.0</td>\n",
              "      <td>162.0</td>\n",
              "      <td>2.5</td>\n",
              "      <td>1040.0</td>\n",
              "      <td>676.0</td>\n",
              "      <td>28</td>\n",
              "      <td>79.99</td>\n",
              "    </tr>\n",
              "    <tr>\n",
              "      <th>1</th>\n",
              "      <td>540.0</td>\n",
              "      <td>0.0</td>\n",
              "      <td>0.0</td>\n",
              "      <td>162.0</td>\n",
              "      <td>2.5</td>\n",
              "      <td>1055.0</td>\n",
              "      <td>676.0</td>\n",
              "      <td>28</td>\n",
              "      <td>61.89</td>\n",
              "    </tr>\n",
              "    <tr>\n",
              "      <th>2</th>\n",
              "      <td>332.5</td>\n",
              "      <td>142.5</td>\n",
              "      <td>0.0</td>\n",
              "      <td>228.0</td>\n",
              "      <td>0.0</td>\n",
              "      <td>932.0</td>\n",
              "      <td>594.0</td>\n",
              "      <td>270</td>\n",
              "      <td>40.27</td>\n",
              "    </tr>\n",
              "    <tr>\n",
              "      <th>3</th>\n",
              "      <td>332.5</td>\n",
              "      <td>142.5</td>\n",
              "      <td>0.0</td>\n",
              "      <td>228.0</td>\n",
              "      <td>0.0</td>\n",
              "      <td>932.0</td>\n",
              "      <td>594.0</td>\n",
              "      <td>365</td>\n",
              "      <td>41.05</td>\n",
              "    </tr>\n",
              "    <tr>\n",
              "      <th>4</th>\n",
              "      <td>198.6</td>\n",
              "      <td>132.4</td>\n",
              "      <td>0.0</td>\n",
              "      <td>192.0</td>\n",
              "      <td>0.0</td>\n",
              "      <td>978.4</td>\n",
              "      <td>825.5</td>\n",
              "      <td>360</td>\n",
              "      <td>44.30</td>\n",
              "    </tr>\n",
              "  </tbody>\n",
              "</table>\n",
              "</div>"
            ],
            "text/plain": [
              "   cement   slag  flyash  water  ...  coarseaggregate  fineaggregate  age  csMPa\n",
              "0   540.0    0.0     0.0  162.0  ...           1040.0          676.0   28  79.99\n",
              "1   540.0    0.0     0.0  162.0  ...           1055.0          676.0   28  61.89\n",
              "2   332.5  142.5     0.0  228.0  ...            932.0          594.0  270  40.27\n",
              "3   332.5  142.5     0.0  228.0  ...            932.0          594.0  365  41.05\n",
              "4   198.6  132.4     0.0  192.0  ...            978.4          825.5  360  44.30\n",
              "\n",
              "[5 rows x 9 columns]"
            ]
          },
          "metadata": {},
          "execution_count": 6
        }
      ]
    },
    {
      "cell_type": "code",
      "metadata": {
        "colab": {
          "base_uri": "https://localhost:8080/",
          "height": 223
        },
        "id": "px-MjdcxulJL",
        "outputId": "4ea914d9-7754-467b-aa80-fa3185eb652a"
      },
      "source": [
        "## change the name of column \"csMpa\" to \"strength\" and return a new dataset\n",
        "df.rename(columns={'csMPa': 'strength'}, inplace=True)\n",
        "print(df.shape)\n",
        "df.head()"
      ],
      "execution_count": null,
      "outputs": [
        {
          "output_type": "stream",
          "name": "stdout",
          "text": [
            "(1030, 9)\n"
          ]
        },
        {
          "output_type": "execute_result",
          "data": {
            "text/html": [
              "<div>\n",
              "<style scoped>\n",
              "    .dataframe tbody tr th:only-of-type {\n",
              "        vertical-align: middle;\n",
              "    }\n",
              "\n",
              "    .dataframe tbody tr th {\n",
              "        vertical-align: top;\n",
              "    }\n",
              "\n",
              "    .dataframe thead th {\n",
              "        text-align: right;\n",
              "    }\n",
              "</style>\n",
              "<table border=\"1\" class=\"dataframe\">\n",
              "  <thead>\n",
              "    <tr style=\"text-align: right;\">\n",
              "      <th></th>\n",
              "      <th>cement</th>\n",
              "      <th>slag</th>\n",
              "      <th>flyash</th>\n",
              "      <th>water</th>\n",
              "      <th>superplasticizer</th>\n",
              "      <th>coarseaggregate</th>\n",
              "      <th>fineaggregate</th>\n",
              "      <th>age</th>\n",
              "      <th>strength</th>\n",
              "    </tr>\n",
              "  </thead>\n",
              "  <tbody>\n",
              "    <tr>\n",
              "      <th>0</th>\n",
              "      <td>540.0</td>\n",
              "      <td>0.0</td>\n",
              "      <td>0.0</td>\n",
              "      <td>162.0</td>\n",
              "      <td>2.5</td>\n",
              "      <td>1040.0</td>\n",
              "      <td>676.0</td>\n",
              "      <td>28</td>\n",
              "      <td>79.99</td>\n",
              "    </tr>\n",
              "    <tr>\n",
              "      <th>1</th>\n",
              "      <td>540.0</td>\n",
              "      <td>0.0</td>\n",
              "      <td>0.0</td>\n",
              "      <td>162.0</td>\n",
              "      <td>2.5</td>\n",
              "      <td>1055.0</td>\n",
              "      <td>676.0</td>\n",
              "      <td>28</td>\n",
              "      <td>61.89</td>\n",
              "    </tr>\n",
              "    <tr>\n",
              "      <th>2</th>\n",
              "      <td>332.5</td>\n",
              "      <td>142.5</td>\n",
              "      <td>0.0</td>\n",
              "      <td>228.0</td>\n",
              "      <td>0.0</td>\n",
              "      <td>932.0</td>\n",
              "      <td>594.0</td>\n",
              "      <td>270</td>\n",
              "      <td>40.27</td>\n",
              "    </tr>\n",
              "    <tr>\n",
              "      <th>3</th>\n",
              "      <td>332.5</td>\n",
              "      <td>142.5</td>\n",
              "      <td>0.0</td>\n",
              "      <td>228.0</td>\n",
              "      <td>0.0</td>\n",
              "      <td>932.0</td>\n",
              "      <td>594.0</td>\n",
              "      <td>365</td>\n",
              "      <td>41.05</td>\n",
              "    </tr>\n",
              "    <tr>\n",
              "      <th>4</th>\n",
              "      <td>198.6</td>\n",
              "      <td>132.4</td>\n",
              "      <td>0.0</td>\n",
              "      <td>192.0</td>\n",
              "      <td>0.0</td>\n",
              "      <td>978.4</td>\n",
              "      <td>825.5</td>\n",
              "      <td>360</td>\n",
              "      <td>44.30</td>\n",
              "    </tr>\n",
              "  </tbody>\n",
              "</table>\n",
              "</div>"
            ],
            "text/plain": [
              "   cement   slag  flyash  water  ...  coarseaggregate  fineaggregate  age  strength\n",
              "0   540.0    0.0     0.0  162.0  ...           1040.0          676.0   28     79.99\n",
              "1   540.0    0.0     0.0  162.0  ...           1055.0          676.0   28     61.89\n",
              "2   332.5  142.5     0.0  228.0  ...            932.0          594.0  270     40.27\n",
              "3   332.5  142.5     0.0  228.0  ...            932.0          594.0  365     41.05\n",
              "4   198.6  132.4     0.0  192.0  ...            978.4          825.5  360     44.30\n",
              "\n",
              "[5 rows x 9 columns]"
            ]
          },
          "metadata": {},
          "execution_count": 7
        }
      ]
    },
    {
      "cell_type": "code",
      "metadata": {
        "id": "5-B8ILWvumo8"
      },
      "source": [
        "# separate the feature data X from the response data y\n",
        "X = df.iloc[:,:-1] # all columns except for the last column\n",
        "y = df.iloc[:,-1] # the last column is the response variable"
      ],
      "execution_count": null,
      "outputs": []
    },
    {
      "cell_type": "code",
      "metadata": {
        "id": "q4EbLLFgurJh"
      },
      "source": [
        "## split the dataset into training and testing datasets using a 80%-20% randomized split ##\n",
        "X_train, X_test, y_train, y_test = train_test_split(X.values, y.values, test_size = 0.2, random_state=15)"
      ],
      "execution_count": null,
      "outputs": []
    },
    {
      "cell_type": "code",
      "metadata": {
        "colab": {
          "base_uri": "https://localhost:8080/"
        },
        "id": "rqCmhQDZw8sO",
        "outputId": "23bcfead-9451-4935-aac0-668cd2c5a8e9"
      },
      "source": [
        "# dimension of the training dataset\n",
        "X_train.shape "
      ],
      "execution_count": null,
      "outputs": [
        {
          "output_type": "execute_result",
          "data": {
            "text/plain": [
              "(824, 8)"
            ]
          },
          "metadata": {},
          "execution_count": 13
        }
      ]
    },
    {
      "cell_type": "code",
      "metadata": {
        "id": "_GBcBx8gvEEL"
      },
      "source": [
        "# assembly model evaluation metrics together\n",
        "def print_evaluate(true, predicted):  \n",
        "    mae = metrics.mean_absolute_error(true, predicted)\n",
        "    mse = metrics.mean_squared_error(true, predicted)\n",
        "    rmse = np.sqrt(metrics.mean_squared_error(true, predicted))\n",
        "    r2_square = metrics.r2_score(true, predicted)\n",
        "    #return mae, mse, rmse, r2_square\n",
        "    print('MAE:', mae)\n",
        "    print('MSE:', mse)\n",
        "    print('RMSE:', rmse)\n",
        "    print('R Square:', r2_square)\n",
        "    print('__________________________________')"
      ],
      "execution_count": null,
      "outputs": []
    },
    {
      "cell_type": "markdown",
      "metadata": {
        "id": "BmoH20FWvIs7"
      },
      "source": [
        "Linear Regression Model"
      ]
    },
    {
      "cell_type": "code",
      "metadata": {
        "id": "7O60KGh4vIQz"
      },
      "source": [
        "# call the linear regressor\n",
        "lr = LinearRegression()"
      ],
      "execution_count": null,
      "outputs": []
    },
    {
      "cell_type": "code",
      "metadata": {
        "colab": {
          "base_uri": "https://localhost:8080/"
        },
        "id": "HxZkNGA1vPK2",
        "outputId": "25d642b3-2605-430a-dac3-a6e24ba0cfb6"
      },
      "source": [
        "# evaluate the goodness-of-fit of the regression model in training using cross-validation\n",
        "r2_train = cross_val_score(lr, X_train, y_train, cv =5, scoring = 'r2').mean()\n",
        "print(f'the average r-square value is {r2_train*100 :.2f}%')"
      ],
      "execution_count": null,
      "outputs": [
        {
          "output_type": "stream",
          "name": "stdout",
          "text": [
            "the average r-square value is 60.51%\n"
          ]
        }
      ]
    },
    {
      "cell_type": "code",
      "metadata": {
        "id": "F-rMRhNOwth6"
      },
      "source": [
        "# fit the linear regression model\n",
        "lr_model = lr.fit(X_train,y_train)"
      ],
      "execution_count": null,
      "outputs": []
    },
    {
      "cell_type": "code",
      "metadata": {
        "colab": {
          "base_uri": "https://localhost:8080/"
        },
        "id": "TCoG3gatxDhf",
        "outputId": "d576d46e-e141-4733-a6c7-4c70896d62d0"
      },
      "source": [
        "# intercept, b_0\n",
        "print(f'The intercept is {lr_model.intercept_:.3f}')"
      ],
      "execution_count": null,
      "outputs": [
        {
          "output_type": "stream",
          "name": "stdout",
          "text": [
            "The intercept is -20.810\n"
          ]
        }
      ]
    },
    {
      "cell_type": "code",
      "metadata": {
        "colab": {
          "base_uri": "https://localhost:8080/",
          "height": 300
        },
        "id": "JIuJbdQ5x6y3",
        "outputId": "6cafd22b-148f-44a7-d3d1-4753064dd045"
      },
      "source": [
        "# coefficients, b1,..., b8\n",
        "coeff_df = pd.DataFrame(lr_model.coef_, ['PC1','PC2','PC3','PC4','PC5','PC6','PC7','PC8'], columns=['Coefficient'])\n",
        "coeff_df.round(4)"
      ],
      "execution_count": null,
      "outputs": [
        {
          "output_type": "execute_result",
          "data": {
            "text/html": [
              "<div>\n",
              "<style scoped>\n",
              "    .dataframe tbody tr th:only-of-type {\n",
              "        vertical-align: middle;\n",
              "    }\n",
              "\n",
              "    .dataframe tbody tr th {\n",
              "        vertical-align: top;\n",
              "    }\n",
              "\n",
              "    .dataframe thead th {\n",
              "        text-align: right;\n",
              "    }\n",
              "</style>\n",
              "<table border=\"1\" class=\"dataframe\">\n",
              "  <thead>\n",
              "    <tr style=\"text-align: right;\">\n",
              "      <th></th>\n",
              "      <th>Coefficient</th>\n",
              "    </tr>\n",
              "  </thead>\n",
              "  <tbody>\n",
              "    <tr>\n",
              "      <th>PC1</th>\n",
              "      <td>0.1205</td>\n",
              "    </tr>\n",
              "    <tr>\n",
              "      <th>PC2</th>\n",
              "      <td>0.1049</td>\n",
              "    </tr>\n",
              "    <tr>\n",
              "      <th>PC3</th>\n",
              "      <td>0.0869</td>\n",
              "    </tr>\n",
              "    <tr>\n",
              "      <th>PC4</th>\n",
              "      <td>-0.1637</td>\n",
              "    </tr>\n",
              "    <tr>\n",
              "      <th>PC5</th>\n",
              "      <td>0.2563</td>\n",
              "    </tr>\n",
              "    <tr>\n",
              "      <th>PC6</th>\n",
              "      <td>0.0175</td>\n",
              "    </tr>\n",
              "    <tr>\n",
              "      <th>PC7</th>\n",
              "      <td>0.0206</td>\n",
              "    </tr>\n",
              "    <tr>\n",
              "      <th>PC8</th>\n",
              "      <td>0.1224</td>\n",
              "    </tr>\n",
              "  </tbody>\n",
              "</table>\n",
              "</div>"
            ],
            "text/plain": [
              "     Coefficient\n",
              "PC1       0.1205\n",
              "PC2       0.1049\n",
              "PC3       0.0869\n",
              "PC4      -0.1637\n",
              "PC5       0.2563\n",
              "PC6       0.0175\n",
              "PC7       0.0206\n",
              "PC8       0.1224"
            ]
          },
          "metadata": {},
          "execution_count": 20
        }
      ]
    },
    {
      "cell_type": "code",
      "metadata": {
        "colab": {
          "base_uri": "https://localhost:8080/"
        },
        "id": "zjkZnliPyAvU",
        "outputId": "b47129fe-0112-457d-cee0-ca9b23a42398"
      },
      "source": [
        "## You can also find coefficient using linear algebra\n",
        "beta_hat = np.linalg.inv(Z_train.T @ Z_train) @ Z_train.T @ y_train\n",
        "print(f'Regression coefficients are:',beta_hat)"
      ],
      "execution_count": null,
      "outputs": [
        {
          "output_type": "stream",
          "name": "stdout",
          "text": [
            "Regression coefficients are: [-2.08098188e+01  1.20523374e-01  1.04905858e-01  8.68975319e-02\n",
            " -1.63716537e-01  2.56274595e-01  1.75170441e-02  2.05659761e-02\n",
            "  1.22422892e-01]\n"
          ]
        }
      ]
    },
    {
      "cell_type": "code",
      "metadata": {
        "colab": {
          "base_uri": "https://localhost:8080/"
        },
        "id": "2qAEKChOyFvg",
        "outputId": "b56581fc-2964-4a69-b2ff-936dfd30126d"
      },
      "source": [
        "# calculate standard errors of efficients using linear algebra\n",
        "n = X_train.shape[0]\n",
        "p = X_train.shape[1]\n",
        "y_train_pred = lr_model.predict(X_train)\n",
        "residuals = y_train - y_train_pred\n",
        "residual_sum_of_squares = residuals.T @ residuals\n",
        "sigma_squared_hat = residual_sum_of_squares / (n-p-1)\n",
        "\n",
        "var_beta_hat =np.linalg.inv(Z_train.T @ Z_train)*sigma_squared_hat\n",
        "for p in range(p+1):\n",
        "  standard_error = var_beta_hat[p, p] ** 0.5\n",
        "  print(f\"SE(beta_hat[{p}]): {standard_error}\")"
      ],
      "execution_count": null,
      "outputs": [
        {
          "output_type": "stream",
          "name": "stdout",
          "text": [
            "SE(beta_hat[0]): 29.90573169463212\n",
            "SE(beta_hat[1]): 0.009463569039049588\n",
            "SE(beta_hat[2]): 0.011154546395421771\n",
            "SE(beta_hat[3]): 0.013891100520166816\n",
            "SE(beta_hat[4]): 0.04559850632907878\n",
            "SE(beta_hat[5]): 0.1063315713755482\n",
            "SE(beta_hat[6]): 0.010462328343609127\n",
            "SE(beta_hat[7]): 0.012034016809344452\n",
            "SE(beta_hat[8]): 0.006224309187148917\n"
          ]
        }
      ]
    },
    {
      "cell_type": "code",
      "metadata": {
        "colab": {
          "base_uri": "https://localhost:8080/"
        },
        "id": "nJlV7HJoyNVz",
        "outputId": "24a17fdb-f438-4e92-dbb3-1d2601fa5e0e"
      },
      "source": [
        "# margin of error for coefficients\n",
        "\n",
        "alpha = 0.05 # level of significance. You can change to your own value\n",
        "t_val = sp.stats.t.ppf(1-alpha/2, n-p-1)\n",
        "for p in range(p+1):\n",
        "  me=var_beta_hat[p, p] ** 0.5*t_val\n",
        "  print(f'margin of error[beta_hat[{p}]:{me}')"
      ],
      "execution_count": null,
      "outputs": [
        {
          "output_type": "stream",
          "name": "stdout",
          "text": [
            "margin of error[beta_hat[0]:58.70133274760304\n",
            "margin of error[beta_hat[1]:0.018575840939577367\n",
            "margin of error[beta_hat[2]:0.021895024883265415\n",
            "margin of error[beta_hat[3]:0.027266549509339624\n",
            "margin of error[beta_hat[4]:0.08950435054218671\n",
            "margin of error[beta_hat[5]:0.20871600857744335\n",
            "margin of error[beta_hat[6]:0.02053628460537263\n",
            "margin of error[beta_hat[7]:0.023621318890598264\n",
            "margin of error[beta_hat[8]:0.012217565798076547\n"
          ]
        }
      ]
    },
    {
      "cell_type": "code",
      "metadata": {
        "colab": {
          "base_uri": "https://localhost:8080/"
        },
        "id": "3s-MLXoByS_8",
        "outputId": "f1b2945b-ac76-452b-9dcf-4e2f1da4dbb3"
      },
      "source": [
        "# evaluate the model on the teting dataset\n",
        "print_evaluate(y_test, lr_model.predict(X_test))"
      ],
      "execution_count": null,
      "outputs": [
        {
          "output_type": "stream",
          "name": "stdout",
          "text": [
            "MAE: 8.274041729659364\n",
            "MSE: 114.16396346419538\n",
            "RMSE: 10.684753785848104\n",
            "R Square: 0.5570208623821267\n",
            "__________________________________\n"
          ]
        }
      ]
    }
  ]
}