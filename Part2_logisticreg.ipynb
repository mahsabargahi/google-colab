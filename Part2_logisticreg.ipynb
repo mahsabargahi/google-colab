{
  "nbformat": 4,
  "nbformat_minor": 0,
  "metadata": {
    "colab": {
      "name": "Part2-logisticreg.ipynb",
      "provenance": [],
      "collapsed_sections": [],
      "authorship_tag": "ABX9TyPyCmk4sxq0BjFWmG00sDK/",
      "include_colab_link": true
    },
    "kernelspec": {
      "name": "python3",
      "display_name": "Python 3"
    },
    "language_info": {
      "name": "python"
    }
  },
  "cells": [
    {
      "cell_type": "markdown",
      "metadata": {
        "id": "view-in-github",
        "colab_type": "text"
      },
      "source": [
        "<a href=\"https://colab.research.google.com/github/mahsabargahi/google-colab/blob/main/Part2_logisticreg.ipynb\" target=\"_parent\"><img src=\"https://colab.research.google.com/assets/colab-badge.svg\" alt=\"Open In Colab\"/></a>"
      ]
    },
    {
      "cell_type": "code",
      "metadata": {
        "colab": {
          "base_uri": "https://localhost:8080/"
        },
        "id": "L3wNejh8QZYM",
        "outputId": "93fd7664-e8e4-442b-93b3-f5323fc869c9"
      },
      "source": [
        "!pip install --upgrade scikit-learn # in case you need to upgrade sklearn"
      ],
      "execution_count": null,
      "outputs": [
        {
          "output_type": "stream",
          "name": "stdout",
          "text": [
            "Requirement already satisfied: scikit-learn in /usr/local/lib/python3.7/dist-packages (0.22.2.post1)\n",
            "Collecting scikit-learn\n",
            "  Downloading scikit_learn-1.0-cp37-cp37m-manylinux_2_12_x86_64.manylinux2010_x86_64.whl (23.1 MB)\n",
            "\u001b[K     |████████████████████████████████| 23.1 MB 5.0 kB/s \n",
            "\u001b[?25hRequirement already satisfied: numpy>=1.14.6 in /usr/local/lib/python3.7/dist-packages (from scikit-learn) (1.19.5)\n",
            "Requirement already satisfied: joblib>=0.11 in /usr/local/lib/python3.7/dist-packages (from scikit-learn) (1.0.1)\n",
            "Collecting threadpoolctl>=2.0.0\n",
            "  Downloading threadpoolctl-3.0.0-py3-none-any.whl (14 kB)\n",
            "Requirement already satisfied: scipy>=1.1.0 in /usr/local/lib/python3.7/dist-packages (from scikit-learn) (1.4.1)\n",
            "Installing collected packages: threadpoolctl, scikit-learn\n",
            "  Attempting uninstall: scikit-learn\n",
            "    Found existing installation: scikit-learn 0.22.2.post1\n",
            "    Uninstalling scikit-learn-0.22.2.post1:\n",
            "      Successfully uninstalled scikit-learn-0.22.2.post1\n",
            "Successfully installed scikit-learn-1.0 threadpoolctl-3.0.0\n"
          ]
        }
      ]
    },
    {
      "cell_type": "code",
      "metadata": {
        "colab": {
          "base_uri": "https://localhost:8080/"
        },
        "id": "Kd07bThqQsmv",
        "outputId": "fb82fb1e-59b6-49ad-c452-4cad549b699a"
      },
      "source": [
        "## mount the Google drive to get access to files in your drive ##\n",
        "from google.colab import drive\n",
        "drive.mount('/content/drive')\n",
        "\n",
        "## set the folder that stores your files and data as your current directory ##\n",
        "%cd /content/drive/My\\ Drive/Colab\\ Notebooks"
      ],
      "execution_count": null,
      "outputs": [
        {
          "output_type": "stream",
          "name": "stdout",
          "text": [
            "Mounted at /content/drive\n",
            "/content/drive/My Drive/Colab Notebooks\n"
          ]
        }
      ]
    },
    {
      "cell_type": "code",
      "metadata": {
        "colab": {
          "base_uri": "https://localhost:8080/"
        },
        "id": "BUXb9W3JQ4dy",
        "outputId": "b113883b-2c92-4c28-9408-2d9df6851d5d"
      },
      "source": [
        "## import libraries and tools ##\n",
        "\n",
        "import numpy as np # linear algebra\n",
        "import pandas as pd # data processing and CSV file I/O \n",
        "\n",
        "import seaborn as sns\n",
        "\n",
        "from matplotlib import rcParams\n",
        "import matplotlib.pyplot as plt\n",
        "\n",
        "import sklearn\n",
        "from sklearn import metrics\n",
        "from sklearn.model_selection import train_test_split, cross_val_score \n",
        "from sklearn.preprocessing import StandardScaler\n",
        "from sklearn.preprocessing import PolynomialFeatures\n",
        "from sklearn.linear_model import LogisticRegression\n",
        "from sklearn.decomposition import PCA\n",
        "\n",
        "import missingno  # missing data visualization\n",
        "\n",
        "import scipy as sp\n",
        "from scipy import stats\n",
        "\n",
        "import statsmodels.api as sm\n",
        "import statsmodels.stats.stattools as smt"
      ],
      "execution_count": null,
      "outputs": [
        {
          "output_type": "stream",
          "name": "stderr",
          "text": [
            "/usr/local/lib/python3.7/dist-packages/statsmodels/tools/_testing.py:19: FutureWarning: pandas.util.testing is deprecated. Use the functions in the public API at pandas.testing instead.\n",
            "  import pandas.util.testing as tm\n"
          ]
        }
      ]
    },
    {
      "cell_type": "code",
      "metadata": {
        "colab": {
          "base_uri": "https://localhost:8080/",
          "height": 206
        },
        "id": "zXOG5t0oRALj",
        "outputId": "f4db6919-9022-4003-c3b3-35f497b30b13"
      },
      "source": [
        "## read the dataset in csv format ##\n",
        "df = pd.read_csv('Data/Concrete_dft.csv')\n",
        "df.head()"
      ],
      "execution_count": null,
      "outputs": [
        {
          "output_type": "execute_result",
          "data": {
            "text/html": [
              "<div>\n",
              "<style scoped>\n",
              "    .dataframe tbody tr th:only-of-type {\n",
              "        vertical-align: middle;\n",
              "    }\n",
              "\n",
              "    .dataframe tbody tr th {\n",
              "        vertical-align: top;\n",
              "    }\n",
              "\n",
              "    .dataframe thead th {\n",
              "        text-align: right;\n",
              "    }\n",
              "</style>\n",
              "<table border=\"1\" class=\"dataframe\">\n",
              "  <thead>\n",
              "    <tr style=\"text-align: right;\">\n",
              "      <th></th>\n",
              "      <th>cement</th>\n",
              "      <th>slag</th>\n",
              "      <th>flyash</th>\n",
              "      <th>water</th>\n",
              "      <th>superplasticizer</th>\n",
              "      <th>coarseaggregate</th>\n",
              "      <th>fineaggregate</th>\n",
              "      <th>age</th>\n",
              "      <th>dft</th>\n",
              "    </tr>\n",
              "  </thead>\n",
              "  <tbody>\n",
              "    <tr>\n",
              "      <th>0</th>\n",
              "      <td>540.0</td>\n",
              "      <td>0.0</td>\n",
              "      <td>0.0</td>\n",
              "      <td>162.0</td>\n",
              "      <td>2.5</td>\n",
              "      <td>1040.0</td>\n",
              "      <td>676.0</td>\n",
              "      <td>28</td>\n",
              "      <td>0</td>\n",
              "    </tr>\n",
              "    <tr>\n",
              "      <th>1</th>\n",
              "      <td>540.0</td>\n",
              "      <td>0.0</td>\n",
              "      <td>0.0</td>\n",
              "      <td>162.0</td>\n",
              "      <td>2.5</td>\n",
              "      <td>1055.0</td>\n",
              "      <td>676.0</td>\n",
              "      <td>28</td>\n",
              "      <td>0</td>\n",
              "    </tr>\n",
              "    <tr>\n",
              "      <th>2</th>\n",
              "      <td>332.5</td>\n",
              "      <td>142.5</td>\n",
              "      <td>0.0</td>\n",
              "      <td>228.0</td>\n",
              "      <td>0.0</td>\n",
              "      <td>932.0</td>\n",
              "      <td>594.0</td>\n",
              "      <td>270</td>\n",
              "      <td>0</td>\n",
              "    </tr>\n",
              "    <tr>\n",
              "      <th>3</th>\n",
              "      <td>332.5</td>\n",
              "      <td>142.5</td>\n",
              "      <td>0.0</td>\n",
              "      <td>228.0</td>\n",
              "      <td>0.0</td>\n",
              "      <td>932.0</td>\n",
              "      <td>594.0</td>\n",
              "      <td>365</td>\n",
              "      <td>0</td>\n",
              "    </tr>\n",
              "    <tr>\n",
              "      <th>4</th>\n",
              "      <td>198.6</td>\n",
              "      <td>132.4</td>\n",
              "      <td>0.0</td>\n",
              "      <td>192.0</td>\n",
              "      <td>0.0</td>\n",
              "      <td>978.4</td>\n",
              "      <td>825.5</td>\n",
              "      <td>360</td>\n",
              "      <td>0</td>\n",
              "    </tr>\n",
              "  </tbody>\n",
              "</table>\n",
              "</div>"
            ],
            "text/plain": [
              "   cement   slag  flyash  water  ...  coarseaggregate  fineaggregate  age  dft\n",
              "0   540.0    0.0     0.0  162.0  ...           1040.0          676.0   28    0\n",
              "1   540.0    0.0     0.0  162.0  ...           1055.0          676.0   28    0\n",
              "2   332.5  142.5     0.0  228.0  ...            932.0          594.0  270    0\n",
              "3   332.5  142.5     0.0  228.0  ...            932.0          594.0  365    0\n",
              "4   198.6  132.4     0.0  192.0  ...            978.4          825.5  360    0\n",
              "\n",
              "[5 rows x 9 columns]"
            ]
          },
          "metadata": {},
          "execution_count": 9
        }
      ]
    },
    {
      "cell_type": "code",
      "metadata": {
        "colab": {
          "base_uri": "https://localhost:8080/"
        },
        "id": "Yr6MqknaRGWL",
        "outputId": "ec5187b2-19dc-4aa2-f7e7-65ec97a099ea"
      },
      "source": [
        "## data frame structure\n",
        "df.info()"
      ],
      "execution_count": null,
      "outputs": [
        {
          "output_type": "stream",
          "name": "stdout",
          "text": [
            "<class 'pandas.core.frame.DataFrame'>\n",
            "RangeIndex: 1030 entries, 0 to 1029\n",
            "Data columns (total 9 columns):\n",
            " #   Column            Non-Null Count  Dtype  \n",
            "---  ------            --------------  -----  \n",
            " 0   cement            1030 non-null   float64\n",
            " 1   slag              1030 non-null   float64\n",
            " 2   flyash            1030 non-null   float64\n",
            " 3   water             1030 non-null   float64\n",
            " 4   superplasticizer  1030 non-null   float64\n",
            " 5   coarseaggregate   1030 non-null   float64\n",
            " 6   fineaggregate     1030 non-null   float64\n",
            " 7   age               1030 non-null   int64  \n",
            " 8   dft               1030 non-null   int64  \n",
            "dtypes: float64(7), int64(2)\n",
            "memory usage: 72.5 KB\n"
          ]
        }
      ]
    },
    {
      "cell_type": "code",
      "metadata": {
        "id": "w4z62_xhRODr"
      },
      "source": [
        "# separate the feature data X from the response data y\n",
        "X = df.iloc[:,:-1] # all columns except for the last column\n",
        "y = df.iloc[:,-1] # the last column is the response variable"
      ],
      "execution_count": null,
      "outputs": []
    },
    {
      "cell_type": "code",
      "metadata": {
        "id": "qY1FcKhNRR2x"
      },
      "source": [
        "## split the dataset into training and testing datasets using a 80%-20% randomized split ##\n",
        "X_train, X_test, y_train, y_test = train_test_split(X.values, y.values, test_size = 0.2, random_state=15)"
      ],
      "execution_count": null,
      "outputs": []
    },
    {
      "cell_type": "markdown",
      "metadata": {
        "id": "lUW_Y8-VRcU4"
      },
      "source": [
        "Logistic Regression"
      ]
    },
    {
      "cell_type": "code",
      "metadata": {
        "id": "6pITIPM5RVcm"
      },
      "source": [
        "# fit a logistic regression model\n",
        "logr=LogisticRegression(multi_class='multinomial')\n",
        "#logr=LogisticRegression(multi_class='ovr')\n",
        "logr_model=logr.fit(X_train,y_train)\n"
      ],
      "execution_count": null,
      "outputs": []
    },
    {
      "cell_type": "code",
      "metadata": {
        "colab": {
          "base_uri": "https://localhost:8080/"
        },
        "id": "r4eGw3huT2fI",
        "outputId": "22ac6ae8-f491-4dbd-b176-85ca3ecc4b8a"
      },
      "source": [
        "# beta_0\n",
        "logr_model.intercept_"
      ],
      "execution_count": null,
      "outputs": [
        {
          "output_type": "execute_result",
          "data": {
            "text/plain": [
              "array([0.00024013])"
            ]
          },
          "metadata": {},
          "execution_count": 14
        }
      ]
    },
    {
      "cell_type": "code",
      "metadata": {
        "colab": {
          "base_uri": "https://localhost:8080/"
        },
        "id": "XYeGOitfT6QD",
        "outputId": "f0b01bff-56cf-43b3-c547-6c8f239915f6"
      },
      "source": [
        "# beta_1,...,beta_8\n",
        "logr_model.coef_"
      ],
      "execution_count": null,
      "outputs": [
        {
          "output_type": "execute_result",
          "data": {
            "text/plain": [
              "array([[-0.01362497, -0.00930874, -0.00584892,  0.02352871, -0.02227464,\n",
              "         0.00133979,  0.00036161, -0.08067099]])"
            ]
          },
          "metadata": {},
          "execution_count": 15
        }
      ]
    },
    {
      "cell_type": "code",
      "metadata": {
        "colab": {
          "base_uri": "https://localhost:8080/"
        },
        "id": "A-7vLTwaT_Sf",
        "outputId": "6e768462-10fc-424e-a79d-b4ec87053973"
      },
      "source": [
        "# testing accuracy\n",
        "logr_model.score(X_test,y_test)"
      ],
      "execution_count": null,
      "outputs": [
        {
          "output_type": "execute_result",
          "data": {
            "text/plain": [
              "0.8786407766990292"
            ]
          },
          "metadata": {},
          "execution_count": 16
        }
      ]
    },
    {
      "cell_type": "code",
      "metadata": {
        "id": "cDlW9IEeUB1d"
      },
      "source": [
        "# prediction on training dataset\n",
        "y_train_pred = logr_model.predict(X_train)\n",
        "p_train_pred = logr_model.predict_proba(X_train)"
      ],
      "execution_count": null,
      "outputs": []
    },
    {
      "cell_type": "code",
      "metadata": {
        "id": "4Z7dLq7sUHdt"
      },
      "source": [
        "# prediction on testing dataset\n",
        "y_test_pred = logr_model.predict(X_test)\n",
        "p_test_pred = logr_model.predict_proba(X_test)"
      ],
      "execution_count": null,
      "outputs": []
    },
    {
      "cell_type": "code",
      "metadata": {
        "colab": {
          "base_uri": "https://localhost:8080/"
        },
        "id": "BSLFbDjZUNXm",
        "outputId": "a2be542b-33f5-4ab7-caee-47862d55f8f1"
      },
      "source": [
        "# classes\n",
        "logr_model.classes_"
      ],
      "execution_count": null,
      "outputs": [
        {
          "output_type": "execute_result",
          "data": {
            "text/plain": [
              "array([0, 1])"
            ]
          },
          "metadata": {},
          "execution_count": 20
        }
      ]
    },
    {
      "cell_type": "code",
      "metadata": {
        "colab": {
          "base_uri": "https://localhost:8080/"
        },
        "id": "mqYaRuh6UQnK",
        "outputId": "8c7e60fa-df23-4c52-9fc9-486fe6815bdd"
      },
      "source": [
        "# [p_0, p_1] # if y_test_pred[i]=1 if p_1>p_2, otherwise y_test_pred[i]=0\n",
        "logr_model.predict_proba(X_test)"
      ],
      "execution_count": null,
      "outputs": [
        {
          "output_type": "execute_result",
          "data": {
            "text/plain": [
              "array([[9.99827386e-01, 1.72614403e-04],\n",
              "       [1.46563126e-01, 8.53436874e-01],\n",
              "       [9.97859530e-01, 2.14046989e-03],\n",
              "       [1.00000000e+00, 1.09705863e-24],\n",
              "       [8.88688886e-01, 1.11311114e-01],\n",
              "       [4.10945943e-02, 9.58905406e-01],\n",
              "       [9.99864506e-01, 1.35493721e-04],\n",
              "       [9.99988228e-01, 1.17722853e-05],\n",
              "       [9.45419619e-01, 5.45803814e-02],\n",
              "       [1.10490209e-01, 8.89509791e-01],\n",
              "       [1.00000000e+00, 4.21149771e-25],\n",
              "       [9.00394634e-01, 9.96053660e-02],\n",
              "       [9.99899220e-01, 1.00780137e-04],\n",
              "       [9.98593617e-01, 1.40638287e-03],\n",
              "       [3.68199923e-03, 9.96318001e-01],\n",
              "       [9.76407558e-01, 2.35924423e-02],\n",
              "       [9.99990720e-01, 9.27954271e-06],\n",
              "       [9.99999512e-01, 4.88024165e-07],\n",
              "       [9.31367058e-01, 6.86329418e-02],\n",
              "       [9.93253625e-01, 6.74637457e-03],\n",
              "       [5.22980396e-01, 4.77019604e-01],\n",
              "       [1.96273246e-01, 8.03726754e-01],\n",
              "       [9.97939630e-01, 2.06036978e-03],\n",
              "       [1.02701133e-01, 8.97298867e-01],\n",
              "       [9.90489111e-01, 9.51088898e-03],\n",
              "       [9.32406170e-01, 6.75938302e-02],\n",
              "       [9.99999993e-01, 6.64884658e-09],\n",
              "       [5.35514577e-02, 9.46448542e-01],\n",
              "       [9.98403335e-01, 1.59666463e-03],\n",
              "       [2.16541327e-01, 7.83458673e-01],\n",
              "       [9.99993837e-01, 6.16291026e-06],\n",
              "       [4.33675218e-01, 5.66324782e-01],\n",
              "       [4.63707051e-01, 5.36292949e-01],\n",
              "       [1.42877623e-02, 9.85712238e-01],\n",
              "       [9.99998970e-01, 1.02982632e-06],\n",
              "       [6.97620145e-01, 3.02379855e-01],\n",
              "       [9.94913653e-01, 5.08634665e-03],\n",
              "       [6.85401746e-02, 9.31459825e-01],\n",
              "       [9.99999926e-01, 7.38633790e-08],\n",
              "       [4.72298443e-02, 9.52770156e-01],\n",
              "       [1.00000000e+00, 1.31013511e-24],\n",
              "       [9.87658964e-01, 1.23410356e-02],\n",
              "       [6.63247262e-01, 3.36752738e-01],\n",
              "       [7.01943713e-01, 2.98056287e-01],\n",
              "       [8.52613012e-03, 9.91473870e-01],\n",
              "       [9.99999778e-01, 2.21954916e-07],\n",
              "       [9.99999888e-01, 1.11980827e-07],\n",
              "       [5.20677627e-03, 9.94793224e-01],\n",
              "       [9.99998167e-01, 1.83268529e-06],\n",
              "       [1.40566216e-01, 8.59433784e-01],\n",
              "       [5.88606053e-01, 4.11393947e-01],\n",
              "       [9.73799202e-01, 2.62007981e-02],\n",
              "       [9.32497419e-01, 6.75025809e-02],\n",
              "       [9.99667844e-01, 3.32156115e-04],\n",
              "       [1.73534451e-01, 8.26465549e-01],\n",
              "       [8.32558896e-01, 1.67441104e-01],\n",
              "       [7.03156535e-02, 9.29684346e-01],\n",
              "       [9.72403467e-01, 2.75965325e-02],\n",
              "       [3.45943371e-01, 6.54056629e-01],\n",
              "       [1.00000000e+00, 2.66678629e-24],\n",
              "       [1.43771840e-01, 8.56228160e-01],\n",
              "       [9.99999894e-01, 1.06437482e-07],\n",
              "       [8.35759860e-01, 1.64240140e-01],\n",
              "       [7.44104180e-01, 2.55895820e-01],\n",
              "       [7.11040385e-01, 2.88959615e-01],\n",
              "       [8.09374758e-02, 9.19062524e-01],\n",
              "       [9.96077534e-01, 3.92246571e-03],\n",
              "       [5.39194393e-01, 4.60805607e-01],\n",
              "       [9.79060075e-01, 2.09399248e-02],\n",
              "       [9.44732051e-01, 5.52679491e-02],\n",
              "       [8.33576268e-01, 1.66423732e-01],\n",
              "       [7.73824989e-02, 9.22617501e-01],\n",
              "       [9.94154989e-01, 5.84501054e-03],\n",
              "       [9.58236103e-01, 4.17638966e-02],\n",
              "       [8.51030262e-01, 1.48969738e-01],\n",
              "       [5.89321309e-02, 9.41067869e-01],\n",
              "       [9.90346441e-01, 9.65355857e-03],\n",
              "       [1.00000000e+00, 6.69397641e-11],\n",
              "       [9.99809563e-01, 1.90437114e-04],\n",
              "       [9.68365669e-01, 3.16343309e-02],\n",
              "       [9.23422712e-01, 7.65772882e-02],\n",
              "       [3.07137372e-01, 6.92862628e-01],\n",
              "       [1.00000000e+00, 1.85472266e-25],\n",
              "       [9.98918604e-01, 1.08139614e-03],\n",
              "       [9.33191012e-01, 6.68089884e-02],\n",
              "       [9.74177159e-01, 2.58228412e-02],\n",
              "       [3.40611180e-02, 9.65938882e-01],\n",
              "       [5.44125285e-01, 4.55874715e-01],\n",
              "       [9.96866509e-01, 3.13349112e-03],\n",
              "       [9.99981094e-01, 1.89061507e-05],\n",
              "       [9.63387880e-01, 3.66121197e-02],\n",
              "       [9.68454868e-01, 3.15451323e-02],\n",
              "       [8.63546526e-02, 9.13645347e-01],\n",
              "       [9.95550759e-01, 4.44924136e-03],\n",
              "       [4.45912343e-01, 5.54087657e-01],\n",
              "       [9.68466382e-01, 3.15336179e-02],\n",
              "       [9.50386141e-01, 4.96138593e-02],\n",
              "       [2.59225207e-01, 7.40774793e-01],\n",
              "       [2.39506905e-01, 7.60493095e-01],\n",
              "       [2.36761465e-01, 7.63238535e-01],\n",
              "       [9.98837333e-01, 1.16266737e-03],\n",
              "       [9.94913653e-01, 5.08634665e-03],\n",
              "       [9.99995655e-01, 4.34498689e-06],\n",
              "       [9.99999176e-01, 8.24105725e-07],\n",
              "       [4.29117821e-01, 5.70882179e-01],\n",
              "       [9.10141828e-03, 9.90898582e-01],\n",
              "       [9.99938534e-01, 6.14664814e-05],\n",
              "       [9.97500829e-01, 2.49917119e-03],\n",
              "       [9.99998482e-01, 1.51828012e-06],\n",
              "       [6.36458164e-01, 3.63541836e-01],\n",
              "       [9.48645269e-01, 5.13547307e-02],\n",
              "       [2.67893508e-02, 9.73210649e-01],\n",
              "       [9.99523073e-01, 4.76927171e-04],\n",
              "       [9.99976274e-01, 2.37255860e-05],\n",
              "       [9.98696542e-01, 1.30345787e-03],\n",
              "       [9.99999505e-01, 4.94922361e-07],\n",
              "       [9.84580608e-01, 1.54193919e-02],\n",
              "       [7.85850761e-01, 2.14149239e-01],\n",
              "       [6.46626739e-01, 3.53373261e-01],\n",
              "       [1.00000000e+00, 1.34913052e-11],\n",
              "       [1.00000000e+00, 8.77871923e-11],\n",
              "       [6.78631656e-01, 3.21368344e-01],\n",
              "       [9.99998057e-01, 1.94278625e-06],\n",
              "       [9.99987474e-01, 1.25255688e-05],\n",
              "       [9.13618227e-01, 8.63817728e-02],\n",
              "       [9.99167055e-01, 8.32944626e-04],\n",
              "       [4.28439487e-03, 9.95715605e-01],\n",
              "       [1.48204875e-01, 8.51795125e-01],\n",
              "       [9.72403467e-01, 2.75965325e-02],\n",
              "       [9.99985834e-01, 1.41656176e-05],\n",
              "       [1.00000000e+00, 8.16810644e-26],\n",
              "       [9.99990656e-01, 9.34379048e-06],\n",
              "       [9.43609597e-01, 5.63904031e-02],\n",
              "       [9.99998992e-01, 1.00756560e-06],\n",
              "       [7.44358127e-01, 2.55641873e-01],\n",
              "       [1.64459065e-02, 9.83554094e-01],\n",
              "       [3.88121102e-01, 6.11878898e-01],\n",
              "       [9.98662191e-01, 1.33780911e-03],\n",
              "       [1.72190407e-01, 8.27809593e-01],\n",
              "       [3.39396288e-02, 9.66060371e-01],\n",
              "       [7.04971949e-03, 9.92950281e-01],\n",
              "       [6.92559411e-01, 3.07440589e-01],\n",
              "       [9.67539368e-01, 3.24606315e-02],\n",
              "       [2.16587132e-01, 7.83412868e-01],\n",
              "       [9.99999544e-01, 4.56273669e-07],\n",
              "       [9.99887119e-01, 1.12881454e-04],\n",
              "       [4.77796855e-01, 5.22203145e-01],\n",
              "       [9.99999329e-01, 6.70975517e-07],\n",
              "       [5.60425039e-01, 4.39574961e-01],\n",
              "       [9.96887790e-01, 3.11220982e-03],\n",
              "       [4.93053931e-01, 5.06946069e-01],\n",
              "       [9.70492802e-01, 2.95071982e-02],\n",
              "       [6.06588499e-01, 3.93411501e-01],\n",
              "       [7.14908163e-01, 2.85091837e-01],\n",
              "       [4.66863931e-01, 5.33136069e-01],\n",
              "       [4.20273506e-01, 5.79726494e-01],\n",
              "       [1.49362408e-02, 9.85063759e-01],\n",
              "       [9.73395891e-01, 2.66041087e-02],\n",
              "       [6.38203863e-01, 3.61796137e-01],\n",
              "       [9.98264231e-01, 1.73576907e-03],\n",
              "       [9.89597410e-01, 1.04025895e-02],\n",
              "       [1.00000000e+00, 6.66438576e-18],\n",
              "       [9.56515702e-01, 4.34842976e-02],\n",
              "       [9.99846887e-01, 1.53113455e-04],\n",
              "       [9.99999930e-01, 6.99972693e-08],\n",
              "       [9.32377559e-01, 6.76224410e-02],\n",
              "       [1.86599909e-01, 8.13400091e-01],\n",
              "       [9.99995396e-01, 4.60405086e-06],\n",
              "       [9.52856953e-01, 4.71430468e-02],\n",
              "       [2.09235924e-02, 9.79076408e-01],\n",
              "       [5.18536414e-01, 4.81463586e-01],\n",
              "       [8.81995803e-01, 1.18004197e-01],\n",
              "       [9.99999941e-01, 5.93303791e-08],\n",
              "       [9.99995866e-01, 4.13358702e-06],\n",
              "       [9.83774859e-01, 1.62251410e-02],\n",
              "       [8.17420965e-01, 1.82579035e-01],\n",
              "       [1.00000000e+00, 7.00048122e-12],\n",
              "       [1.91436128e-01, 8.08563872e-01],\n",
              "       [9.99158982e-01, 8.41018366e-04],\n",
              "       [5.22789668e-01, 4.77210332e-01],\n",
              "       [9.43838510e-01, 5.61614902e-02],\n",
              "       [9.91893216e-01, 8.10678360e-03],\n",
              "       [8.35632008e-01, 1.64367992e-01],\n",
              "       [4.66711919e-01, 5.33288081e-01],\n",
              "       [6.17978015e-01, 3.82021985e-01],\n",
              "       [9.17184316e-01, 8.28156836e-02],\n",
              "       [6.64382241e-01, 3.35617759e-01],\n",
              "       [9.44481512e-01, 5.55184875e-02],\n",
              "       [9.75199928e-01, 2.48000723e-02],\n",
              "       [9.99999346e-01, 6.53828243e-07],\n",
              "       [4.70508076e-01, 5.29491924e-01],\n",
              "       [9.98510476e-01, 1.48952374e-03],\n",
              "       [9.99409443e-01, 5.90557210e-04],\n",
              "       [9.99994791e-01, 5.20910613e-06],\n",
              "       [9.94757124e-01, 5.24287579e-03],\n",
              "       [7.72254283e-01, 2.27745717e-01],\n",
              "       [9.99989403e-01, 1.05972909e-05],\n",
              "       [1.00000000e+00, 6.46580441e-25],\n",
              "       [3.70452071e-01, 6.29547929e-01],\n",
              "       [9.46756425e-01, 5.32435750e-02],\n",
              "       [9.88570123e-01, 1.14298767e-02],\n",
              "       [8.81936067e-01, 1.18063933e-01],\n",
              "       [9.99999993e-01, 7.33548131e-09],\n",
              "       [8.52124391e-01, 1.47875609e-01],\n",
              "       [9.96541334e-01, 3.45866623e-03],\n",
              "       [8.58583044e-01, 1.41416956e-01]])"
            ]
          },
          "metadata": {},
          "execution_count": 21
        }
      ]
    },
    {
      "cell_type": "code",
      "metadata": {
        "id": "p9JrJX5CUWMk"
      },
      "source": [
        "# confusion matrix\n",
        "cnf_matrix=metrics.confusion_matrix(y_test, y_test_pred)"
      ],
      "execution_count": null,
      "outputs": []
    },
    {
      "cell_type": "code",
      "metadata": {
        "colab": {
          "base_uri": "https://localhost:8080/",
          "height": 325
        },
        "id": "cy_gAKbjUY1P",
        "outputId": "b0b5bcd4-6a38-43d5-80cf-e39e0545690e"
      },
      "source": [
        "# visualize confusion matrix\n",
        "class_names=[0,1] # name  of classes\n",
        "fig, ax = plt.subplots()\n",
        "tick_marks = np.arange(len(class_names))\n",
        "plt.xticks(tick_marks, class_names)\n",
        "plt.yticks(tick_marks, class_names)\n",
        "# create heatmap\n",
        "sns.heatmap(pd.DataFrame(cnf_matrix), annot=True, cmap=\"YlGnBu\" ,fmt='g')\n",
        "ax.xaxis.set_label_position(\"top\")\n",
        "plt.tight_layout()\n",
        "plt.title('Confusion matrix', y=1.1)\n",
        "plt.ylabel('True label')\n",
        "plt.xlabel('Predicted label')\n",
        "plt.show()"
      ],
      "execution_count": null,
      "outputs": [
        {
          "output_type": "display_data",
          "data": {
            "image/png": "[encoded data removed]",
            "text/plain": [
              "<Figure size 432x288 with 2 Axes>"
            ]
          },
          "metadata": {
            "needs_background": "light"
          }
        }
      ]
    }
  ]
}